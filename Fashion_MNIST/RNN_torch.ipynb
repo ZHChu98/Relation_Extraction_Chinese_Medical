{
 "cells": [
  {
   "cell_type": "code",
   "execution_count": 1,
   "metadata": {},
   "outputs": [],
   "source": [
    "import torch\n",
    "import torch.nn as nn\n",
    "from torchvision import datasets, transforms\n",
    "import torch.optim as optim\n",
    "from torch.autograd import Variable\n",
    "from torch.optim import lr_scheduler\n",
    "import torchvision\n",
    "import numpy as np"
   ]
  },
  {
   "cell_type": "code",
   "execution_count": 2,
   "metadata": {},
   "outputs": [
    {
     "name": "stdout",
     "output_type": "stream",
     "text": [
      "0\n"
     ]
    }
   ],
   "source": [
    "print(torch.cuda.current_device())"
   ]
  },
  {
   "cell_type": "code",
   "execution_count": 3,
   "metadata": {},
   "outputs": [],
   "source": [
    "train_data = datasets.MNIST('~/data/mnist/', train=True, transform=transforms.ToTensor(), download=True)\n",
    "test_data = datasets.MNIST('~/data/mnist/', train=False, transform=transforms.ToTensor(), download=True)\n",
    "data_loader = torch.utils.data.DataLoader(train_data, batch_size=64, \n",
    "            shuffle=True, num_workers=4, drop_last=True)"
   ]
  },
  {
   "cell_type": "code",
   "execution_count": 4,
   "metadata": {},
   "outputs": [],
   "source": [
    "class Params():\n",
    "    def __init__(self):\n",
    "        self.n_inputs = 28\n",
    "        self.n_steps = 28\n",
    "        self.hidden_size = 150\n",
    "        self.n_class = 10\n",
    "        self.batch_size = 64\n",
    "\n",
    "params = Params()"
   ]
  },
  {
   "cell_type": "code",
   "execution_count": 25,
   "metadata": {},
   "outputs": [],
   "source": [
    "class MNISTRnn(nn.Module):\n",
    "    def __init__(self):\n",
    "        super(MNISTRnn, self).__init__()\n",
    "        self.n_inputs = params.n_inputs\n",
    "        self.n_steps = params.n_steps\n",
    "        self.hidden_size = params.hidden_size\n",
    "        self.batch_size = params.batch_size\n",
    "        self.n_class = params.n_class\n",
    "        self.rnn = nn.RNN(self.n_inputs, self.hidden_size)\n",
    "        self.fc = nn.Linear(self.hidden_size, self.n_class)\n",
    "  \n",
    "    def initHidden(self):\n",
    "    # num layers, batch size, hidden size\n",
    "        return torch.zeros(1, self.batch_size, self.hidden_size)\n",
    "  \n",
    "    def forward(self, images):\n",
    "        images = images.squeeze(1)\n",
    "        x = images.permute(1,0,2)# w, n, h\n",
    "        hidden = self.initHidden()\n",
    "        hidden = hidden.cuda()\n",
    "        out, h_out = self.rnn(x, hidden) #out: seq_len, batch, hidden_size\n",
    "        out = out[-1].view([out.shape[1], out.shape[2]])\n",
    "        out = self.fc(out)\n",
    "        return out.view(-1, self.n_class)"
   ]
  },
  {
   "cell_type": "code",
   "execution_count": 26,
   "metadata": {},
   "outputs": [],
   "source": [
    "model = MNISTRnn()\n",
    "model = model.cuda()\n",
    "criterion = nn.CrossEntropyLoss()\n",
    "optimizer = optim.Adam(model.parameters(), lr=0.001)"
   ]
  },
  {
   "cell_type": "code",
   "execution_count": 27,
   "metadata": {},
   "outputs": [],
   "source": [
    "def train():\n",
    "    epochs = 15\n",
    "    for epoch in range(epochs):\n",
    "        print('Epoch {}\\{}'.format(epoch+1, epochs))\n",
    "        tot_loss = 0.0\n",
    "        correct = 0.0\n",
    "        for data in data_loader:\n",
    "            inputs, labels = data\n",
    "            inputs, labels = Variable(inputs), Variable(labels)\n",
    "            inputs = inputs.cuda()\n",
    "            labels = labels.cuda()\n",
    "            optimizer.zero_grad()\n",
    "            logits = model(inputs)\n",
    "            _, preds = torch.max(logits.data,1)\n",
    "            loss = criterion(logits, labels)\n",
    "            loss.backward()\n",
    "            optimizer.step()\n",
    "            tot_loss += loss.item()\n",
    "            correct += torch.sum(preds == labels.data)\n",
    "\n",
    "        print('Epoch loss: ', tot_loss/len(train_data))\n",
    "        print('Epoch acc: ', correct.item()/len(train_data))\n",
    "    return model"
   ]
  },
  {
   "cell_type": "code",
   "execution_count": 28,
   "metadata": {},
   "outputs": [
    {
     "name": "stdout",
     "output_type": "stream",
     "text": [
      "Epoch 1\\15\n",
      "Epoch loss:  0.01262030405079325\n",
      "Epoch acc:  0.72915\n",
      "Epoch 2\\15\n",
      "Epoch loss:  0.005291099001094699\n",
      "Epoch acc:  0.89965\n",
      "Epoch 3\\15\n",
      "Epoch loss:  0.0038669323236991964\n",
      "Epoch acc:  0.92865\n",
      "Epoch 4\\15\n",
      "Epoch loss:  0.00298925953283906\n",
      "Epoch acc:  0.9449833333333333\n",
      "Epoch 5\\15\n",
      "Epoch loss:  0.0026391105947395164\n",
      "Epoch acc:  0.95185\n",
      "Epoch 6\\15\n",
      "Epoch loss:  0.002411529238211612\n",
      "Epoch acc:  0.9569\n",
      "Epoch 7\\15\n",
      "Epoch loss:  0.00216883993173639\n",
      "Epoch acc:  0.9604666666666667\n",
      "Epoch 8\\15\n",
      "Epoch loss:  0.002058921172345678\n",
      "Epoch acc:  0.9622833333333334\n",
      "Epoch 9\\15\n",
      "Epoch loss:  0.001871984553275009\n",
      "Epoch acc:  0.9654833333333334\n",
      "Epoch 10\\15\n",
      "Epoch loss:  0.0017689654262115558\n",
      "Epoch acc:  0.9676\n",
      "Epoch 11\\15\n",
      "Epoch loss:  0.001740149086341262\n",
      "Epoch acc:  0.9677666666666667\n",
      "Epoch 12\\15\n",
      "Epoch loss:  0.0016780011168370645\n",
      "Epoch acc:  0.9688666666666667\n",
      "Epoch 13\\15\n",
      "Epoch loss:  0.00154737648088485\n",
      "Epoch acc:  0.97125\n",
      "Epoch 14\\15\n",
      "Epoch loss:  0.0015859671774009865\n",
      "Epoch acc:  0.9705166666666667\n",
      "Epoch 15\\15\n",
      "Epoch loss:  0.001458260380042096\n",
      "Epoch acc:  0.9725\n"
     ]
    }
   ],
   "source": [
    "model = train()"
   ]
  },
  {
   "cell_type": "code",
   "execution_count": null,
   "metadata": {},
   "outputs": [],
   "source": []
  }
 ],
 "metadata": {
  "kernelspec": {
   "display_name": "pytorch",
   "language": "python",
   "name": "python3"
  },
  "language_info": {
   "codemirror_mode": {
    "name": "ipython",
    "version": 3
   },
   "file_extension": ".py",
   "mimetype": "text/x-python",
   "name": "python",
   "nbconvert_exporter": "python",
   "pygments_lexer": "ipython3",
   "version": "3.6.8"
  }
 },
 "nbformat": 4,
 "nbformat_minor": 2
}
