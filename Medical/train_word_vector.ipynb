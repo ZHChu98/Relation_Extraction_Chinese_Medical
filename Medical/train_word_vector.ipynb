{
 "cells": [
  {
   "cell_type": "code",
   "execution_count": 1,
   "metadata": {},
   "outputs": [],
   "source": [
    "import tf_glove\n",
    "model = tf_glove.GloVeModel(embedding_size=500, context_size=10)"
   ]
  },
  {
   "cell_type": "code",
   "execution_count": 2,
   "metadata": {},
   "outputs": [],
   "source": [
    "import numpy as np"
   ]
  },
  {
   "cell_type": "code",
   "execution_count": 3,
   "metadata": {},
   "outputs": [],
   "source": [
    "import os\n",
    "data_list = os.listdir('data')"
   ]
  },
  {
   "cell_type": "code",
   "execution_count": 4,
   "metadata": {},
   "outputs": [],
   "source": [
    "# to train word2vec.npy\n",
    "corpus = []\n",
    "for i in range(len(data_list)):\n",
    "    fp = open(os.path.join('data', data_list[i]), 'r', encoding='utf-8')\n",
    "    line = fp.readline()\n",
    "    while line:\n",
    "        line = line.split(' ')\n",
    "        line.remove('\\n')\n",
    "        corpus.append(line)\n",
    "        for _ in range(4):\n",
    "            line = fp.readline();\n",
    "    fp.close"
   ]
  },
  {
   "cell_type": "code",
   "execution_count": null,
   "metadata": {},
   "outputs": [],
   "source": [
    "# to train word2vec_simple.npy\n",
    "corpus = []\n",
    "for i in range(len(data_list)):\n",
    "    fp = open(os.path.join('data', data_list[i]), 'r', encoding='utf-8')\n",
    "    line = fp.readline()\n",
    "    line = fp.readline()\n",
    "    while line:\n",
    "        line = line.split(' ')\n",
    "        line.remove('\\n')\n",
    "        corpus.append(line)\n",
    "        for _ in range(4):\n",
    "            line = fp.readline();\n",
    "    fp.close"
   ]
  },
  {
   "cell_type": "code",
   "execution_count": null,
   "metadata": {},
   "outputs": [],
   "source": [
    "# to train pos2vec.npy\n",
    "corpus = []\n",
    "for i in range(len(data_list)):\n",
    "    fp = open(os.path.join('data', data_list[i]), 'r', encoding='utf-8')\n",
    "    line = fp.readline()\n",
    "    line = fp.readline()\n",
    "    line = fp.readline()\n",
    "    while line:\n",
    "        line = line.split(' ')\n",
    "        line.remove('\\n')\n",
    "        corpus.append(line)\n",
    "        for _ in range(4):\n",
    "            line = fp.readline();\n",
    "    fp.close"
   ]
  },
  {
   "cell_type": "code",
   "execution_count": 5,
   "metadata": {},
   "outputs": [
    {
     "data": {
      "text/plain": [
       "108950"
      ]
     },
     "execution_count": 5,
     "metadata": {},
     "output_type": "execute_result"
    }
   ],
   "source": [
    "len(corpus)"
   ]
  },
  {
   "cell_type": "code",
   "execution_count": 6,
   "metadata": {},
   "outputs": [],
   "source": [
    "model.fit_to_corpus(corpus)"
   ]
  },
  {
   "cell_type": "code",
   "execution_count": 7,
   "metadata": {},
   "outputs": [
    {
     "name": "stdout",
     "output_type": "stream",
     "text": [
      "403.65352409999997  s\n"
     ]
    }
   ],
   "source": [
    "import time\n",
    "start = time.clock()\n",
    "model.train(num_epochs=80)\n",
    "print(time.clock() - start, \" s\")"
   ]
  },
  {
   "cell_type": "code",
   "execution_count": 9,
   "metadata": {},
   "outputs": [],
   "source": [
    "embeddings = np.load(\"word2vec.npy\").item()"
   ]
  },
  {
   "cell_type": "code",
   "execution_count": 10,
   "metadata": {},
   "outputs": [
    {
     "data": {
      "text/plain": [
       "36513"
      ]
     },
     "execution_count": 10,
     "metadata": {},
     "output_type": "execute_result"
    }
   ],
   "source": [
    "len(embeddings)"
   ]
  },
  {
   "cell_type": "code",
   "execution_count": null,
   "metadata": {},
   "outputs": [],
   "source": []
  }
 ],
 "metadata": {
  "kernelspec": {
   "display_name": "tensorflow",
   "language": "python",
   "name": "tensorflow"
  },
  "language_info": {
   "codemirror_mode": {
    "name": "ipython",
    "version": 3
   },
   "file_extension": ".py",
   "mimetype": "text/x-python",
   "name": "python",
   "nbconvert_exporter": "python",
   "pygments_lexer": "ipython3",
   "version": "3.6.8"
  }
 },
 "nbformat": 4,
 "nbformat_minor": 2
}
